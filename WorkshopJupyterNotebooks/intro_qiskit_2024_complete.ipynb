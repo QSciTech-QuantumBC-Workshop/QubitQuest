{
 "cells": [
  {
   "cell_type": "code",
   "execution_count": null,
   "metadata": {},
   "outputs": [],
   "source": [
    "import numpy as np"
   ]
  },
  {
   "cell_type": "markdown",
   "metadata": {},
   "source": [
    "# Introduction to Qiskit\n",
    "\n",
    "I assume you know what a qubit is and how to describe a system of qubits:\n",
    "1. Two level quantum system\n",
    "2. Used to store information\n",
    "3. A system of $n$ qubits is described by a complex unit vector in a $2^n$ dimensional space (Hilbert space)\n",
    "\n",
    "In this introduction we will cover the following topics until time runs out\n",
    "1. Quantum gates and quantum circuits\n",
    "1. Circuit execution on a local simulator\n",
    "1. Circuit execution on IBM Quantum Experience\n",
    "1. Technical considerations\n",
    "1. Qiskit Runtime (brief)"
   ]
  },
  {
   "cell_type": "markdown",
   "metadata": {},
   "source": [
    "## Quantum gates and quantum circuits\n",
    "\n",
    "1. Quantum gates\n",
    "2. Quantum circuits\n",
    "3. Measurements\n",
    "4. Parametrized circuits"
   ]
  },
  {
   "cell_type": "markdown",
   "metadata": {},
   "source": [
    "### Quantum gates"
   ]
  },
  {
   "cell_type": "markdown",
   "metadata": {},
   "source": [
    "\n",
    "The state of a qubit is described by a complex vector, \n",
    "\n",
    "$\\begin{equation}|\\psi\\rangle = \\begin{bmatrix}\\alpha\\ \\\\ \\beta \\end{bmatrix}\\end{equation}$\n",
    "\n",
    "such that $|\\alpha|^2 + |\\beta|^2 = 1$. Using Dirac's notation, we have $|\\psi\\rangle = \\alpha |0\\rangle + \\beta |1\\rangle$.\n",
    "\n",
    "A quantum gate is a unitary transformation described by a complex matrix.<br>\n",
    "For a quantum gate acting on a single qubit,\n",
    "\n",
    "$\\begin{equation}U = \\begin{bmatrix}u_{00} & u_{01} \\\\ u_{10} & u_{11}\\end{bmatrix}\\end{equation}$ \n",
    "\n",
    "and $U^\\dagger U = 1$.\n",
    "\n",
    "When any $U$ can be expressed as a sequence of gates taken from a finite set of gates, we say that this set of quantum gates is universal. "
   ]
  },
  {
   "cell_type": "markdown",
   "metadata": {},
   "source": [
    "### Quantum circuits"
   ]
  },
  {
   "cell_type": "markdown",
   "metadata": {},
   "source": [
    "\n",
    "A [quantum circuit](https://docs.quantum.ibm.com/api/qiskit/qiskit.circuit.QuantumCircuit) is a sequence of quantum gates applied on one or more qubits. It is made of at least one __quantum register__ and can contain one or many __classical register(s)__.\n",
    "\n",
    " * A quantum register is a collection of qubits. We will usually use a single quantum register.\n",
    "\n",
    " * A classical register is a collection of bits that stores the result of a measurement. When measuring a qubit, you can specify in which bit you want to store the measurement outcome -- or rely on the default assignation!"
   ]
  },
  {
   "cell_type": "code",
   "execution_count": null,
   "metadata": {},
   "outputs": [],
   "source": [
    "from qiskit import QuantumCircuit\n",
    "from qiskit.circuit import ClassicalRegister, QuantumRegister"
   ]
  },
  {
   "cell_type": "code",
   "execution_count": null,
   "metadata": {},
   "outputs": [],
   "source": [
    "# A quantum circuit with 3 qubits (in a default quantum register), no classical bit\n",
    "qc_3 = QuantumCircuit(3)\n",
    "qc_3.draw('mpl', scale=0.7)"
   ]
  },
  {
   "cell_type": "code",
   "execution_count": null,
   "metadata": {},
   "outputs": [],
   "source": [
    "# A quantum circuit with 2 qubits, 2 classical bits\n",
    "qc_2_2 = QuantumCircuit(2, 2)\n",
    "qc_2_2.draw('mpl', scale=0.7)"
   ]
  },
  {
   "cell_type": "code",
   "execution_count": null,
   "metadata": {},
   "outputs": [],
   "source": [
    "# A quantum circuit with 2 registers of 2 qubits each,\n",
    "# and one classical register with 2 classical bits\n",
    "qr0 = QuantumRegister(2, 'qr0')\n",
    "qr1 = QuantumRegister(2, 'qr1')\n",
    "cr = ClassicalRegister(2, 'cr')\n",
    "\n",
    "qc_22_2 = QuantumCircuit(qr0, qr1, cr)\n",
    "qc_22_2.draw('mpl', scale=0.7)"
   ]
  },
  {
   "cell_type": "markdown",
   "metadata": {},
   "source": [
    "Gates are applied from left to right.\n",
    "\n",
    "All the gates defined by Qiskit have a corresponding method in the `QuantumCircuit` class.<br>\n",
    "Let's look at a few examples."
   ]
  },
  {
   "cell_type": "code",
   "execution_count": null,
   "metadata": {},
   "outputs": [],
   "source": [
    "# The NOT gate\n",
    "qc = QuantumCircuit(1)\n",
    "qc.x(0)\n",
    "qc.draw('mpl', scale=0.7)"
   ]
  },
  {
   "cell_type": "code",
   "execution_count": null,
   "metadata": {},
   "outputs": [],
   "source": [
    "# The Hadamard gate\n",
    "qr0 = QuantumRegister(2, \"qr0\")\n",
    "qr1 = QuantumRegister(2, \"qr1\")\n",
    "cr = ClassicalRegister(2, \"cr\")\n",
    "\n",
    "qc = QuantumCircuit(qr0,qr1,cr)\n",
    "\n",
    "qc.h(qr0)\n",
    "\n",
    "qc.draw(\"mpl\", scale=0.7)"
   ]
  },
  {
   "cell_type": "code",
   "execution_count": null,
   "metadata": {},
   "outputs": [],
   "source": [
    "# The RX gate, which applies a rotation around the X-axis by a given angle\n",
    "qc = QuantumCircuit(1)\n",
    "qc.rx(np.pi/2, 0)  # rotation of PI/2\n",
    "qc.draw('mpl', scale=0.7)"
   ]
  },
  {
   "cell_type": "code",
   "execution_count": null,
   "metadata": {},
   "outputs": [],
   "source": [
    "# The CNOT gate\n",
    "qc = QuantumCircuit(2)\n",
    "qc.cx(0, 1)  # first arg is control qubit, second is target qubit\n",
    "qc.draw('mpl', scale=0.7)"
   ]
  },
  {
   "cell_type": "code",
   "execution_count": null,
   "metadata": {},
   "outputs": [],
   "source": [
    "# The SWAP gate\n",
    "qc = QuantumCircuit(2)\n",
    "qc.swap(0, 1)  # first arg is control qubit, second is target qubit\n",
    "qc.draw('mpl', scale=0.7)"
   ]
  },
  {
   "cell_type": "markdown",
   "metadata": {},
   "source": [
    "#### <span style=\"color:blue\">Your turn!</span>\n",
    "\n",
    "Use Qiskit to create the following circuit in the cell below.\n",
    "\n",
    "<img src=\"images/quantum_circuit.png\" alt=\"Quantum circuit\" style=\"width:500px;\"/>"
   ]
  },
  {
   "cell_type": "code",
   "execution_count": null,
   "metadata": {},
   "outputs": [],
   "source": [
    "qc = QuantumCircuit(3)\n",
    "\n",
    "qc.h(range(3))\n",
    "qc.rx(np.pi/2,0)\n",
    "qc.ry(np.pi/3,1)\n",
    "qc.rz(np.pi/4,2)\n",
    "\n",
    "qc.cx([0,1,2],[1,2,0])\n",
    "qc.sdg(2)\n",
    "qc.h([1,2])\n",
    "\n",
    "qc.draw('mpl', scale=0.7)"
   ]
  },
  {
   "cell_type": "markdown",
   "metadata": {},
   "source": [
    "### Measurements"
   ]
  },
  {
   "cell_type": "markdown",
   "metadata": {},
   "source": [
    "\n",
    "A measurement is a non-unitary operation that reads the state of the qubits.\n",
    "\n",
    "Born's rule tells us that for a qubit in state $|\\psi\\rangle = \\alpha |0\\rangle + \\beta |1\\rangle$, the probability that the measurement's outcome is 0 is $|\\alpha|^2$, and we have $|\\beta|^2$ for the probability that we measure 1.\n",
    "\n",
    "As mentioned before, the measurement outcome is stored in a classical bit."
   ]
  },
  {
   "cell_type": "code",
   "execution_count": null,
   "metadata": {},
   "outputs": [],
   "source": [
    "# Measure all qubits and create a classical register with 1:1 mapping between\n",
    "# qubits number and classical bit number\n",
    "qc_3.measure_all()\n",
    "qc_3.draw('mpl', scale=0.7)"
   ]
  },
  {
   "cell_type": "code",
   "execution_count": null,
   "metadata": {},
   "outputs": [],
   "source": [
    "# Measure the qubits and store the outcome in the classical bits of an existing\n",
    "# classical register\n",
    "qc_2_2.measure(0, 0)\n",
    "qc_2_2.measure(1, 1)\n",
    "qc_2_2.draw('mpl', scale=0.7)"
   ]
  },
  {
   "cell_type": "code",
   "execution_count": null,
   "metadata": {},
   "outputs": [],
   "source": [
    "# Measure the qubits of one quantum register and save the result in the classical bits\n",
    "# of an existing classical register\n",
    "qc_22_2.measure(qr1, cr)\n",
    "qc_22_2.draw('mpl', scale=0.7)"
   ]
  },
  {
   "cell_type": "markdown",
   "metadata": {},
   "source": [
    "### Parametrized circuits"
   ]
  },
  {
   "cell_type": "markdown",
   "metadata": {},
   "source": [
    "\n",
    "1. `Parameter` and `ParameterVector`\n",
    "2. Parameters binding\n",
    "\n",
    "The vast majority of algorithms that run on today's quantum computers are _variational algorithms_.\n",
    "\n",
    "A variational algorithm is a hybrid algorithm where:\n",
    " 1. The quantum circuits have parametrized gates and are used to compute the expectation value of some observable.\n",
    " 2. A classical computer updates the parameters of the quantum circuits in order to minimize a cost function. "
   ]
  },
  {
   "cell_type": "code",
   "execution_count": null,
   "metadata": {},
   "outputs": [],
   "source": [
    "from qiskit.circuit import Parameter\n",
    "\n",
    "params = [Parameter('θ' + str(i)) for i in range(3)]\n",
    "params"
   ]
  },
  {
   "cell_type": "code",
   "execution_count": null,
   "metadata": {},
   "outputs": [],
   "source": [
    "qc_var = QuantumCircuit(3)\n",
    "\n",
    "qc_var.h([0, 1, 2])\n",
    "qc_var.rx(params[0], 0)\n",
    "qc_var.ry(params[1], 1)\n",
    "qc_var.rz(params[2], 2)\n",
    "qc_var.cx(0, 1)\n",
    "qc_var.cx(1, 2)\n",
    "qc_var.cx(2, 0)\n",
    "qc_var.h(1)\n",
    "qc_var.sdg(2)\n",
    "qc_var.h(2)\n",
    "\n",
    "qc_var.measure_all()\n",
    "\n",
    "qc_var.draw('mpl', scale=0.7)"
   ]
  },
  {
   "cell_type": "code",
   "execution_count": null,
   "metadata": {},
   "outputs": [],
   "source": [
    "values = np.random.random(3)\n",
    "\n",
    "params_dict = {k:v for (k, v) in zip(params, values)}\n",
    "params_dict"
   ]
  },
  {
   "cell_type": "code",
   "execution_count": null,
   "metadata": {},
   "outputs": [],
   "source": [
    "qc_binded = qc_var.bind_parameters(params_dict)\n",
    "qc_binded.draw('mpl', scale=0.7)"
   ]
  },
  {
   "cell_type": "markdown",
   "metadata": {},
   "source": [
    "## Circuit execution (on a local simulator)\n",
    "\n",
    "1. First backend : Aer Simulator\n",
    "2. First approach : `execute` function\n",
    "3. Second approach : `Sampler` class"
   ]
  },
  {
   "cell_type": "code",
   "execution_count": null,
   "metadata": {},
   "outputs": [],
   "source": [
    "# The quantum circuit that we will execute\n",
    "qc_bell1 = QuantumCircuit(2)\n",
    "qc_bell1.h(0)\n",
    "qc_bell1.cx(0, 1)\n",
    "qc_bell1.measure_all()\n",
    "\n",
    "qc_bell1.draw('mpl', scale=0.7)"
   ]
  },
  {
   "cell_type": "markdown",
   "metadata": {},
   "source": [
    "### First backend : Aer Simulator"
   ]
  },
  {
   "cell_type": "markdown",
   "metadata": {},
   "source": [
    "\n",
    "[`Aer`](https://docs.quantum.ibm.com/api/qiskit/0.39/aer) provides quantum computing simulators with realistic noise models.<br>\n",
    "When you use a simulator through the `qiskit_aer` module, the computation runs locally. "
   ]
  },
  {
   "cell_type": "code",
   "execution_count": null,
   "metadata": {},
   "outputs": [],
   "source": [
    "from qiskit_aer import AerSimulator"
   ]
  },
  {
   "cell_type": "code",
   "execution_count": null,
   "metadata": {},
   "outputs": [],
   "source": [
    "simulator = AerSimulator()"
   ]
  },
  {
   "cell_type": "markdown",
   "metadata": {},
   "source": [
    "### First approach : `execute` function"
   ]
  },
  {
   "cell_type": "markdown",
   "metadata": {},
   "source": [
    "\n",
    "This method (and its 33 parameters!) is documented [here](https://docs.quantum.ibm.com/api/qiskit/execute).\n",
    "\n",
    "It will be the default circuit execution approach during the winter school.\n",
    "\n",
    "Two parameters are mandatory:\n",
    " 1. the circuit(s)\n",
    " 2. the backend (quantum computer or simulator)\n",
    "\n",
    " The `execute` method performs the computation asynchronously. It returns a `Job` instance.\n",
    " Retrieving the result from the job is blocking."
   ]
  },
  {
   "cell_type": "code",
   "execution_count": null,
   "metadata": {},
   "outputs": [],
   "source": [
    "from qiskit import execute"
   ]
  },
  {
   "cell_type": "code",
   "execution_count": null,
   "metadata": {},
   "outputs": [],
   "source": [
    "job = execute(qc_bell1, simulator)\n",
    "result = job.result()\n",
    "counts = result.get_counts()\n",
    "print(counts)"
   ]
  },
  {
   "cell_type": "code",
   "execution_count": null,
   "metadata": {},
   "outputs": [],
   "source": [
    "from qiskit.visualization import plot_histogram\n",
    "\n",
    "plot_histogram(counts, figsize=(3, 3))"
   ]
  },
  {
   "cell_type": "markdown",
   "metadata": {},
   "source": [
    "### Second approach : `Sampler` class\n"
   ]
  },
  {
   "cell_type": "markdown",
   "metadata": {},
   "source": [
    "\n",
    "The `Sampler` class calculates (quasi) probabilities of bitstrings from quantum circuits."
   ]
  },
  {
   "cell_type": "code",
   "execution_count": null,
   "metadata": {},
   "outputs": [],
   "source": [
    "from qiskit.primitives import Sampler, BackendSampler"
   ]
  },
  {
   "cell_type": "code",
   "execution_count": null,
   "metadata": {},
   "outputs": [],
   "source": [
    "# Exact\n",
    "sampler = Sampler()\n",
    "job = sampler.run(circuits=[qc_bell1])\n",
    "print(f'Sampling distribution: {job.result().quasi_dists[0]}')"
   ]
  },
  {
   "cell_type": "code",
   "execution_count": null,
   "metadata": {},
   "outputs": [],
   "source": [
    "sampler = BackendSampler(simulator, options={'shots':2000})\n",
    "job = sampler.run(circuits=[qc_bell1])\n",
    "print(f'Sampling distribution: {job.result().quasi_dists[0]}')"
   ]
  },
  {
   "cell_type": "code",
   "execution_count": null,
   "metadata": {},
   "outputs": [],
   "source": [
    "job.result().quasi_dists[0].binary_probabilities()"
   ]
  },
  {
   "cell_type": "code",
   "execution_count": null,
   "metadata": {},
   "outputs": [],
   "source": [
    "qc_var.draw('mpl', scale=0.7)"
   ]
  },
  {
   "cell_type": "code",
   "execution_count": null,
   "metadata": {},
   "outputs": [],
   "source": [
    "job = sampler.run([qc_var, qc_var], parameter_values=[[0,0,0], [1,1,1]])\n",
    "result = job.result()\n",
    "print(result.quasi_dists)"
   ]
  },
  {
   "cell_type": "markdown",
   "metadata": {},
   "source": [
    "## Circuit execution on IBM Quantum Experience"
   ]
  },
  {
   "cell_type": "markdown",
   "metadata": {},
   "source": [
    "1. Account and provider\n",
    "1. Compute ressources\n",
    "1. Job submission\n",
    "1. Circuit bundling\n",
    "1. More realistic simulation"
   ]
  },
  {
   "cell_type": "markdown",
   "metadata": {},
   "source": [
    "<img src=\"images/iqx_interface.png\" alt=\"IQX interface\" style=\"width:500px;\"/>"
   ]
  },
  {
   "cell_type": "markdown",
   "metadata": {},
   "source": [
    "### Account and provider\n",
    "\n",
    "1. Save and load account\n",
    "2. Providers and quantum devices"
   ]
  },
  {
   "cell_type": "markdown",
   "metadata": {},
   "source": [
    "<img src=\"images/providers.png\" alt=\"Providers\" style=\"width:500px;\"/>\n",
    "\n",
    "The method `IBMQ.save_account(<TOKEN>)` will store your access token under `$HOME/.qiskit/qiskitrc`."
   ]
  },
  {
   "cell_type": "code",
   "execution_count": null,
   "metadata": {},
   "outputs": [],
   "source": [
    "from qiskit_ibm_provider import IBMProvider"
   ]
  },
  {
   "cell_type": "code",
   "execution_count": null,
   "metadata": {},
   "outputs": [],
   "source": [
    "# IBMProvider.save_account(token=\"...\", overwrite=True)"
   ]
  },
  {
   "cell_type": "code",
   "execution_count": null,
   "metadata": {},
   "outputs": [],
   "source": [
    "provider = IBMProvider()"
   ]
  },
  {
   "cell_type": "code",
   "execution_count": null,
   "metadata": {},
   "outputs": [],
   "source": [
    "print(provider.instances())"
   ]
  },
  {
   "cell_type": "code",
   "execution_count": null,
   "metadata": {},
   "outputs": [],
   "source": [
    "# The provider that you will use for the winter school\n",
    "provider = IBMProvider(instance=\"pinq-quebec-hub/ecole-dhiver/qml-workshop\")"
   ]
  },
  {
   "cell_type": "markdown",
   "metadata": {},
   "source": [
    "### Compute ressources"
   ]
  },
  {
   "cell_type": "code",
   "execution_count": null,
   "metadata": {},
   "outputs": [],
   "source": [
    "# List the available backends\n",
    "provider.backends()"
   ]
  },
  {
   "cell_type": "code",
   "execution_count": null,
   "metadata": {},
   "outputs": [],
   "source": [
    "ibm_simulator = provider.get_backend('ibmq_qasm_simulator')\n",
    "quebec = provider.get_backend('ibm_quebec')"
   ]
  },
  {
   "cell_type": "markdown",
   "metadata": {},
   "source": [
    "### Job submission"
   ]
  },
  {
   "cell_type": "code",
   "execution_count": null,
   "metadata": {},
   "outputs": [],
   "source": [
    "job = execute(qc_bell1, ibm_simulator)\n",
    "print(job.job_id())"
   ]
  },
  {
   "cell_type": "code",
   "execution_count": null,
   "metadata": {},
   "outputs": [],
   "source": [
    "from qiskit.providers import JobStatus\n",
    "\n",
    "if job.status() == JobStatus.DONE:\n",
    "    # This call is blocking\n",
    "    result = job.result()\n",
    "    for key, value in result.to_dict().items():\n",
    "        print(f\"{key} : {value}\")\n",
    "    # print(result.to_dict())\n",
    "else:\n",
    "    print('Job not finished yet!')"
   ]
  },
  {
   "cell_type": "markdown",
   "metadata": {},
   "source": [
    "When submitting a job to a real quantum computer, you enter a queue and the time it takes before you can retrieve the results varies a lot.\n",
    "\n",
    "It's a good habit to save the job ID on disk. You can always use your provider's handle to query a specific job. "
   ]
  },
  {
   "cell_type": "code",
   "execution_count": null,
   "metadata": {},
   "outputs": [],
   "source": [
    "# Let's try on a real quantum computer!\n",
    "# job_quebec = execute(qc_bell1, quebec)\n",
    "# job_id = job_quebec.job_id()\n",
    "# print(job_id)"
   ]
  },
  {
   "cell_type": "code",
   "execution_count": null,
   "metadata": {},
   "outputs": [],
   "source": [
    "job_id = 'cppt0c9sp83g008y9e4g'\n",
    "job_quebec = provider.retrieve_job(job_id)"
   ]
  },
  {
   "cell_type": "code",
   "execution_count": null,
   "metadata": {},
   "outputs": [],
   "source": [
    "if job_quebec.status() == JobStatus.DONE:\n",
    "    # This call is blocking\n",
    "    result = job_quebec.result()\n",
    "    for key, value in result.to_dict().items():\n",
    "        print(f\"{key} : {value}\")\n",
    "    # print(result.to_dict())\n",
    "else:\n",
    "    print('Job not finished yet!')"
   ]
  },
  {
   "cell_type": "code",
   "execution_count": null,
   "metadata": {},
   "outputs": [],
   "source": [
    "# Job is done, let's look at the counts\n",
    "counts = job_quebec.result().get_counts()\n",
    "plot_histogram(counts, figsize=(3, 3))"
   ]
  },
  {
   "cell_type": "markdown",
   "metadata": {},
   "source": [
    "### Circuits bundling\n",
    "\n",
    "You can bundle multiple circuits in the same job, this way you don't have to enter the queue for every circuits!\n",
    "\n",
    "Of course, there is a maximum number of circuits that can be packed in a single job and this is device dependent.\n",
    "\n",
    "While we are at it, we can also look at the maximum number of shots per experiment supported."
   ]
  },
  {
   "cell_type": "code",
   "execution_count": null,
   "metadata": {},
   "outputs": [],
   "source": [
    "quebec_conf = quebec.configuration()\n",
    "\n",
    "print(f'Maximum number of circuits per job on quebec: {quebec_conf.max_experiments}')\n",
    "print(f'Maximum number of shots per experiment: {quebec_conf.max_shots}')"
   ]
  },
  {
   "cell_type": "markdown",
   "metadata": {},
   "source": [
    "We will prepare the circuits corresponding to the 3 remaining Bell's pairs.\n",
    "\n",
    "For this, we will use the `compose` method (more information [here](https://docs.quantum.ibm.com/api/qiskit/qiskit.circuit.QuantumCircuit#compose))."
   ]
  },
  {
   "cell_type": "code",
   "execution_count": null,
   "metadata": {},
   "outputs": [],
   "source": [
    "qc_bell2 = QuantumCircuit(2)\n",
    "qc_bell2.x(0)\n",
    "qc_bell2.barrier()\n",
    "qc_bell2.compose(qc_bell1, inplace=True)\n",
    "\n",
    "qc_bell2.draw('mpl', scale=0.7)"
   ]
  },
  {
   "cell_type": "code",
   "execution_count": null,
   "metadata": {},
   "outputs": [],
   "source": [
    "\n",
    "qc_bell3 = QuantumCircuit(2)\n",
    "qc_bell3.x(1)\n",
    "qc_bell3.barrier()\n",
    "qc_bell3.compose(qc_bell1, inplace=True)\n",
    "\n",
    "qc_bell3.draw('mpl', scale=0.7)"
   ]
  },
  {
   "cell_type": "code",
   "execution_count": null,
   "metadata": {},
   "outputs": [],
   "source": [
    "qc_bell4 = QuantumCircuit(2)\n",
    "qc_bell4.x([0, 1])\n",
    "qc_bell4.barrier()\n",
    "qc_bell4.compose(qc_bell1, inplace=True)\n",
    "\n",
    "qc_bell4.draw('mpl', scale=0.7)"
   ]
  },
  {
   "cell_type": "code",
   "execution_count": null,
   "metadata": {},
   "outputs": [],
   "source": [
    "circuits = [qc_bell1, qc_bell2, qc_bell3, qc_bell4]\n",
    "counts = execute(circuits, simulator).result().get_counts()"
   ]
  },
  {
   "cell_type": "code",
   "execution_count": null,
   "metadata": {},
   "outputs": [],
   "source": [
    "print(counts)"
   ]
  },
  {
   "cell_type": "markdown",
   "metadata": {},
   "source": [
    "### More realistic simulation"
   ]
  },
  {
   "cell_type": "code",
   "execution_count": null,
   "metadata": {},
   "outputs": [],
   "source": [
    "quebec_simulator = AerSimulator.from_backend(quebec)"
   ]
  },
  {
   "cell_type": "markdown",
   "metadata": {},
   "source": [
    "## Technical considerations"
   ]
  },
  {
   "cell_type": "markdown",
   "metadata": {},
   "source": [
    "### Backend properties\n",
    "\n",
    "* Qubit's calibration data\n",
    "* Gate's calibration data\n",
    "\n",
    "You can access a description of the `BackendProperties` class [here](https://docs.quantum.ibm.com/api/qiskit/qiskit.providers.models.BackendProperties)."
   ]
  },
  {
   "cell_type": "code",
   "execution_count": null,
   "metadata": {},
   "outputs": [],
   "source": [
    "quebec_prop = quebec.properties()"
   ]
  },
  {
   "cell_type": "markdown",
   "metadata": {},
   "source": [
    "#### Backend configuration\n",
    "\n",
    "* Basis gates\n",
    "* Coupling map\n",
    "* Supported instructions\n",
    "* Max experiments\n",
    "* Max shots\n",
    "* etc.\n",
    "\n",
    "You can access a description of the `BackendConfiguration` class [here](https://docs.quantum.ibm.com/api/qiskit/qiskit.providers.models.BackendConfiguration)."
   ]
  },
  {
   "cell_type": "code",
   "execution_count": null,
   "metadata": {},
   "outputs": [],
   "source": [
    "quebec_conf = quebec.configuration()"
   ]
  },
  {
   "cell_type": "code",
   "execution_count": null,
   "metadata": {},
   "outputs": [],
   "source": [
    "# Any quantum computation executed by the quebec device must be expressed in terms\n",
    "# of its basis set of gates.\n",
    "quebec_conf.basis_gates"
   ]
  },
  {
   "cell_type": "markdown",
   "metadata": {},
   "source": [
    "#### Circuit depth and width\n",
    "\n",
    "The __circuit depth__ is a qualitative evaluation of \"how long\" the circuit is.<br>\n",
    "Roughly, it counts the number of gates that cannot be applied in parallel.\n",
    "\n",
    "It is \"qualitative\" since all gates do not take the same amount of time when they are executed on a quantum computer.\n",
    "\n",
    "For example, let's look at the duration of a `NOT` gate on `ibm_quebec``."
   ]
  },
  {
   "cell_type": "code",
   "execution_count": null,
   "metadata": {},
   "outputs": [],
   "source": [
    "not_gate_duration = quebec_prop.gate_length('x', 0)\n",
    "\n",
    "print(f'NOT gate duration: {(not_gate_duration * 1e6):.3f} µs')"
   ]
  },
  {
   "cell_type": "markdown",
   "metadata": {},
   "source": [
    "But why do we care?\n",
    "\n",
    "Because quantum computers are noisy!\n",
    "\n",
    "Among the different types of noise are qubit's relaxation and dephasing.\n",
    "\n",
    "Qubit's __relaxation__ refers to the physical relaxation of the qubit from the $|1\\rangle$ (excited) state to the $|0\\rangle$ (ground) state. Qubit relaxation is characterized by the relaxation time $T_1$.<br>\n",
    "For a qubit prepared in state $|1\\rangle$, the probability to measure the qubit in state $|1\\rangle$ after a time $t$ is given by $\\mathcal{P}(|1\\rangle) = \\exp{(-t/T_1)}$."
   ]
  },
  {
   "cell_type": "code",
   "execution_count": null,
   "metadata": {},
   "outputs": [],
   "source": [
    "t1_q0 = quebec_prop.t1(0)\n",
    "print(f'Relaxation time for qubit 0: {(t1_q0 * 1e6):.1f} µs')\n",
    "print(f'Time before the probability to measure the qubit in the 1 ' + \n",
    "      f'state falls below 90%: {(-1 * quebec_prop.t1(0) * np.log(0.9) * 1e6):.1f} µs')"
   ]
  },
  {
   "cell_type": "markdown",
   "metadata": {},
   "source": [
    "Qubit's __dephasing__ refers to the loss of phase information in the qubit state.<br>\n",
    "For a qubit prepared in state $|+\\rangle = \\frac{1}{\\sqrt{2}}(|0\\rangle + |1\\rangle)$, the probability that the qubit's state will evolve toward a statistical mixture of the $|+\\rangle$ and $|-\\rangle$ states is characterized by $T_2$.  "
   ]
  },
  {
   "cell_type": "code",
   "execution_count": null,
   "metadata": {},
   "outputs": [],
   "source": [
    "t2_q0 = quebec_prop.t2(0)\n",
    "print(f'Dephasing time for qubit 0: {(t2_q0 * 1e6):.1f} µs')"
   ]
  },
  {
   "cell_type": "markdown",
   "metadata": {},
   "source": [
    "Take home message: keep your circuits short!\n",
    "\n",
    "The __width__ of a quantum circuit is also a concept that you might encounter, it simply refers to the number of qubits in your circuit."
   ]
  },
  {
   "cell_type": "markdown",
   "metadata": {},
   "source": [
    "### Connectivity and transpiling"
   ]
  },
  {
   "cell_type": "markdown",
   "metadata": {},
   "source": [
    "[Transpilation](https://docs.quantum.ibm.com/api/qiskit/transpiler) is the process of rewriting a given input circuit to match the topology of a specific quantum device and its native gates. It can also optimize the circuit for execution on present day noisy quantum systems.\n",
    "\n",
    "<img src=\"images/transpiling_core_steps.png\" alt=\"Transpilation\" width=\"500\">\n",
    "\n",
    "Let's look again at the circuit that we implemented for the exercice."
   ]
  },
  {
   "cell_type": "code",
   "execution_count": null,
   "metadata": {},
   "outputs": [],
   "source": [
    "qc = QuantumCircuit(3)\n",
    "\n",
    "qc.h([0, 1, 2])\n",
    "qc.rx(np.pi / 2, 0)\n",
    "qc.ry(np.pi / 3, 1)\n",
    "qc.rz(np.pi / 4, 2)\n",
    "qc.cx(0, 1)\n",
    "qc.cx(1, 2)\n",
    "qc.cx(2, 0)\n",
    "qc.h(1)\n",
    "qc.sdg(2)\n",
    "qc.h(2)\n",
    "\n",
    "qc.measure_all()\n",
    "\n",
    "qc.draw('mpl', scale=0.7)"
   ]
  },
  {
   "cell_type": "code",
   "execution_count": null,
   "metadata": {},
   "outputs": [],
   "source": [
    "from qiskit import transpile\n",
    "\n",
    "qc_transpiled = transpile(qc, coupling_map = quebec_conf.coupling_map)\n",
    "# qc_transpiled = transpile(qc, backend=quebec)\n",
    "\n",
    "qc_transpiled.draw('mpl', scale=0.7, idle_wires=False)"
   ]
  },
  {
   "cell_type": "markdown",
   "metadata": {},
   "source": [
    "We see that given a given `coupling_map`, the qubit have been allocated to physical qubits in a different order at the start of the circuit. Also, the measurement place the results in specific classical bits. The introduction of `SWAP` is chaging the order of the qubits. Some one qubit gates have been by the native gates of the quebec device. The `SWAP` gate is necessary because qubit 0 is not connected to qubit 2 on the real device."
   ]
  },
  {
   "cell_type": "code",
   "execution_count": null,
   "metadata": {},
   "outputs": [],
   "source": [
    "from qiskit import transpile\n",
    "\n",
    "qc_transpiled = transpile(qc, backend=quebec)\n",
    "\n",
    "qc_transpiled.draw('mpl', scale=0.7, idle_wires=False)"
   ]
  },
  {
   "cell_type": "markdown",
   "metadata": {},
   "source": [
    "We see that the gates `H`, `Rx`, `Ry` and `Sdg` have been replaced by the native gates of the quebec device.\n",
    "\n",
    "Also, `CX` is not a native gate form `ibm_quebec`. This gate is actually decomposed using the two qubits interaction `ECR`.  "
   ]
  },
  {
   "cell_type": "markdown",
   "metadata": {},
   "source": [
    "## Qiskit Runtime\n",
    "\n",
    "Qiskit `Runtime` is a quantum computing service and programming model that allows users to optimize workloads and efficiently execute them on quantum systems at scale. For more info, you can read [this](https://quantum-computing.ibm.com/lab/docs/iql/runtime/). \n",
    "\n",
    "In particular, Qiskit Runtime defines its own `Sampler` implementation and provides an `Options` class to encapsulate all the possible options (see [here](https://qiskit.org/documentation/partners/qiskit_ibm_runtime/stubs/qiskit_ibm_runtime.options.Options.html))."
   ]
  },
  {
   "cell_type": "code",
   "execution_count": null,
   "metadata": {},
   "outputs": [],
   "source": [
    "from qiskit_ibm_runtime import QiskitRuntimeService\n",
    "\n",
    "QiskitRuntimeService.save_account(channel=\"ibm_quantum\", token=\"...\", set_as_default=True, overwrite=True)"
   ]
  },
  {
   "cell_type": "code",
   "execution_count": null,
   "metadata": {},
   "outputs": [],
   "source": [
    "from qiskit_ibm_runtime import QiskitRuntimeService, Session, Sampler, Estimator, Options\n",
    "from qiskit.test.reference_circuits import ReferenceCircuits\n",
    "from qiskit.circuit.library import RealAmplitudes\n",
    " \n",
    "service = QiskitRuntimeService(channel=\"ibm_quantum\")\n",
    "\n",
    "options = Options(optimization_level=1)\n",
    "\n",
    "with Session(service=service, backend=\"ibm_quebec\") as session:\n",
    "    # Submit a request to the Sampler primitive within the session.\n",
    "    sampler = Sampler(session=session, options=options)\n",
    "    job = sampler.run(circuits=qc_bell1)\n",
    "    print(job.job_id())\n",
    "    print(f\"Sampler results: {job.result()}\")\n"
   ]
  }
 ],
 "metadata": {
  "kernelspec": {
   "display_name": "winterschool",
   "language": "python",
   "name": "python3"
  },
  "language_info": {
   "codemirror_mode": {
    "name": "ipython",
    "version": 3
   },
   "file_extension": ".py",
   "mimetype": "text/x-python",
   "name": "python",
   "nbconvert_exporter": "python",
   "pygments_lexer": "ipython3",
   "version": "3.9.18"
  }
 },
 "nbformat": 4,
 "nbformat_minor": 2
}
